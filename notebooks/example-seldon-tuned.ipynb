{
 "cells": [
  {
   "cell_type": "markdown",
   "metadata": {},
   "source": [
    "# End-To-End Train and Deploy Machine Learning Model on Kubernetes\n",
    "\n",
    "Using:\n",
    "\n",
    " * kubeflow\n",
    " * seldon-core\n",
    " \n",
    " \n",
    "Follow the main README to setup, train and deploy your model. This notebook will show how to run the Argo jobs and example prediction calls to the deployed models.\n",
    "\n",
    "**To run this notebook you will need to install Tensorflow**\n",
    " \n",
    "The example will be the MNIST handwriiten digit classification task.\n",
    "\n",
    "![MNIST](mnist.png \"MNIST Digits\")"
   ]
  },
  {
   "cell_type": "markdown",
   "metadata": {},
   "source": [
    "# Setup\n",
    "\n",
    "Set kubectl to use the namespace where you installed kubeflow and seldon. In the README it is kubeflow-seldon"
   ]
  },
  {
   "cell_type": "code",
   "execution_count": 1,
   "metadata": {},
   "outputs": [
    {
     "name": "stdout",
     "output_type": "stream",
     "text": [
      "Context \"gke_mnist-classification6_us-east1-d_kubeflow-seldon-ml\" modified.\r\n"
     ]
    }
   ],
   "source": [
    "!kubectl config set-context $(kubectl config current-context) --namespace=kubeflow-seldon"
   ]
  },
  {
   "cell_type": "code",
   "execution_count": 1,
   "metadata": {},
   "outputs": [],
   "source": [
    "import sys\n",
    "sys.path.append('proto')"
   ]
  },
  {
   "cell_type": "markdown",
   "metadata": {},
   "source": [
    "# Submit tensorflow training job\n"
   ]
  },
  {
   "cell_type": "code",
   "execution_count": 2,
   "metadata": {},
   "outputs": [
    {
     "name": "stdout",
     "output_type": "stream",
     "text": [
      "Name:             kubeflow-tf-train-xrmqb\r\n",
      "Namespace:        kubeflow-seldon\r\n",
      "ServiceAccount:   default\r\n",
      "Status:           Pending\r\n",
      "Created:          Tue Apr 10 15:55:42 -0300 (27 seconds ago)\r\n",
      "Parameters:       \r\n",
      "  tfjob-version-hack: 31071\r\n",
      "  version:        0.1\r\n",
      "  github-user:    kubeflow\r\n",
      "  github-revision: master\r\n",
      "  docker-user:    seldonio\r\n",
      "  build-push-image: false\r\n"
     ]
    }
   ],
   "source": [
    "!argo submit ../workflows/training-tf-mnist-workflow.yaml -p tfjob-version-hack=$RANDOM"
   ]
  },
  {
   "cell_type": "code",
   "execution_count": 46,
   "metadata": {},
   "outputs": [
    {
     "name": "stdout",
     "output_type": "stream",
     "text": [
      "NAME                      STATUS      AGE    DURATION\r\n",
      "kubeflow-sk-train-2z5mt   Running     5s     5s \r\n",
      "kubeflow-sk-train-zsmsm   Succeeded   22h    1h \r\n",
      "seldon-sk-deploy-6k2kv    Succeeded   1d     3s \r\n",
      "seldon-sk-deploy-s66jf    Succeeded   1d     20s \r\n",
      "seldon-sk-deploy-95b8x    Succeeded   1d     3s \r\n",
      "kubeflow-sk-train-gq8m9   Succeeded   1d     6m \r\n",
      "kubeflow-tf-train-xrmqb   Succeeded   1d     2m \r\n"
     ]
    }
   ],
   "source": [
    "!argo list"
   ]
  },
  {
   "cell_type": "markdown",
   "metadata": {},
   "source": [
    "# Serve tensorflow model\n"
   ]
  },
  {
   "cell_type": "code",
   "execution_count": 35,
   "metadata": {},
   "outputs": [
    {
     "name": "stdout",
     "output_type": "stream",
     "text": [
      "seldondeployment \"mnist-classifier\" configured\r\n"
     ]
    }
   ],
   "source": [
    "!kubectl apply -f ../k8s_serving/serving_model.json"
   ]
  },
  {
   "cell_type": "markdown",
   "metadata": {},
   "source": [
    "# Submit scikit-learn training job\n"
   ]
  },
  {
   "cell_type": "code",
   "execution_count": 4,
   "metadata": {},
   "outputs": [
    {
     "name": "stdout",
     "output_type": "stream",
     "text": [
      "Name:             kubeflow-sk-train-8zjhl\r\n",
      "Namespace:        kubeflow-seldon\r\n",
      "ServiceAccount:   default\r\n",
      "Status:           Pending\r\n",
      "Created:          Mon Apr 16 09:35:18 -0300 (1 second ago)\r\n",
      "Parameters:       \r\n",
      "  version:        0.3\r\n",
      "  github-user:    smolina74\r\n",
      "  github-revision: master\r\n",
      "  docker-user:    smolina74\r\n",
      "  build-push-image: true\r\n"
     ]
    }
   ],
   "source": [
    "!argo submit ../workflows/training-sk-mnist-workflow.yaml"
   ]
  },
  {
   "cell_type": "markdown",
   "metadata": {},
   "source": [
    "# Serve scikit-learn model\n"
   ]
  },
  {
   "cell_type": "code",
   "execution_count": 3,
   "metadata": {},
   "outputs": [
    {
     "name": "stdout",
     "output_type": "stream",
     "text": [
      "Name:             seldon-sk-deploy-bsdzd\r\n",
      "Namespace:        kubeflow-seldon\r\n",
      "ServiceAccount:   default\r\n",
      "Status:           Pending\r\n",
      "Created:          Sun Apr 22 19:59:53 -0300 (now)\r\n",
      "Parameters:       \r\n",
      "  version:        0.3\r\n",
      "  github-user:    smolina74\r\n",
      "  github-revision: master\r\n",
      "  docker-user:    smolina74\r\n",
      "  build-push-image: true\r\n"
     ]
    }
   ],
   "source": [
    "!argo submit ../workflows/serving-sk-mnist-workflow.yaml"
   ]
  },
  {
   "cell_type": "markdown",
   "metadata": {},
   "source": [
    "# Mnist Setup\n",
    "You will need Tensorflow installed to run this section."
   ]
  },
  {
   "cell_type": "code",
   "execution_count": 2,
   "metadata": {},
   "outputs": [],
   "source": [
    "%matplotlib inline\n",
    "from matplotlib import pyplot as plt\n",
    "import numpy as np\n",
    "def gen_image(arr):\n",
    "    two_d = (np.reshape(arr, (28, 28)) * 255).astype(np.uint8)\n",
    "    plt.imshow(two_d,cmap=plt.cm.gray_r, interpolation='nearest')\n",
    "    return plt"
   ]
  },
  {
   "cell_type": "code",
   "execution_count": 3,
   "metadata": {},
   "outputs": [
    {
     "name": "stdout",
     "output_type": "stream",
     "text": [
      "WARNING:tensorflow:From /mnt/c/Users/santiago/smolina74/kubeflow_env/local/lib/python2.7/site-packages/tensorflow/contrib/learn/python/learn/datasets/base.py:198: retry (from tensorflow.contrib.learn.python.learn.datasets.base) is deprecated and will be removed in a future version.\n",
      "Instructions for updating:\n",
      "Use the retry module or similar alternatives.\n",
      "WARNING:tensorflow:From <ipython-input-3-e30965b195eb>:2: read_data_sets (from tensorflow.contrib.learn.python.learn.datasets.mnist) is deprecated and will be removed in a future version.\n",
      "Instructions for updating:\n",
      "Please use alternatives such as official/mnist/dataset.py from tensorflow/models.\n",
      "WARNING:tensorflow:From /mnt/c/Users/santiago/smolina74/kubeflow_env/local/lib/python2.7/site-packages/tensorflow/contrib/learn/python/learn/datasets/mnist.py:260: maybe_download (from tensorflow.contrib.learn.python.learn.datasets.base) is deprecated and will be removed in a future version.\n",
      "Instructions for updating:\n",
      "Please write your own downloading logic.\n",
      "WARNING:tensorflow:From /mnt/c/Users/santiago/smolina74/kubeflow_env/local/lib/python2.7/site-packages/tensorflow/contrib/learn/python/learn/datasets/mnist.py:262: extract_images (from tensorflow.contrib.learn.python.learn.datasets.mnist) is deprecated and will be removed in a future version.\n",
      "Instructions for updating:\n",
      "Please use tf.data to implement this functionality.\n",
      "Extracting MNIST_data/train-images-idx3-ubyte.gz\n",
      "WARNING:tensorflow:From /mnt/c/Users/santiago/smolina74/kubeflow_env/local/lib/python2.7/site-packages/tensorflow/contrib/learn/python/learn/datasets/mnist.py:267: extract_labels (from tensorflow.contrib.learn.python.learn.datasets.mnist) is deprecated and will be removed in a future version.\n",
      "Instructions for updating:\n",
      "Please use tf.data to implement this functionality.\n",
      "Extracting MNIST_data/train-labels-idx1-ubyte.gz\n",
      "WARNING:tensorflow:From /mnt/c/Users/santiago/smolina74/kubeflow_env/local/lib/python2.7/site-packages/tensorflow/contrib/learn/python/learn/datasets/mnist.py:110: dense_to_one_hot (from tensorflow.contrib.learn.python.learn.datasets.mnist) is deprecated and will be removed in a future version.\n",
      "Instructions for updating:\n",
      "Please use tf.one_hot on tensors.\n",
      "Extracting MNIST_data/t10k-images-idx3-ubyte.gz\n",
      "Extracting MNIST_data/t10k-labels-idx1-ubyte.gz\n",
      "WARNING:tensorflow:From /mnt/c/Users/santiago/smolina74/kubeflow_env/local/lib/python2.7/site-packages/tensorflow/contrib/learn/python/learn/datasets/mnist.py:290: __init__ (from tensorflow.contrib.learn.python.learn.datasets.mnist) is deprecated and will be removed in a future version.\n",
      "Instructions for updating:\n",
      "Please use alternatives such as official/mnist/dataset.py from tensorflow/models.\n"
     ]
    },
    {
     "data": {
      "image/png": "[encoded data removed]",
      "text/plain": [
       "<Figure size 432x288 with 1 Axes>"
      ]
     },
     "metadata": {},
     "output_type": "display_data"
    }
   ],
   "source": [
    "from tensorflow.examples.tutorials.mnist import input_data\n",
    "mnist = input_data.read_data_sets(\"MNIST_data/\", one_hot = True)\n",
    "batch_xs, batch_ys = mnist.train.next_batch(10)\n",
    "gen_image(batch_xs[1]).show()"
   ]
  },
  {
   "cell_type": "markdown",
   "metadata": {},
   "source": [
    "Create proto files for gRPC. You will need [python grpc tools](https://grpc.io/docs/quickstart/python.html) installed"
   ]
  },
  {
   "cell_type": "code",
   "execution_count": 5,
   "metadata": {},
   "outputs": [
    {
     "name": "stdout",
     "output_type": "stream",
     "text": [
      "/home/santiago/kubeflow_env/bin/python: No module named grpc.tools\r\n"
     ]
    }
   ],
   "source": [
    "!python -m grpc.tools.protoc -I. --python_out=. --grpc_python_out=. ./proto/prediction.proto"
   ]
  },
  {
   "cell_type": "code",
   "execution_count": 4,
   "metadata": {},
   "outputs": [],
   "source": [
    "import requests\n",
    "from requests.auth import HTTPBasicAuth\n",
    "from random import randint,random\n",
    "from proto import prediction_pb2\n",
    "from proto import prediction_pb2_grpc\n",
    "import grpc\n",
    "import json\n",
    "from visualizer import get_graph\n",
    "\n",
    "AMBASSADOR_API_IP=\"localhost:8002\"\n",
    "\n",
    "def rest_request(deploymentName,request):\n",
    "    response = requests.post(\n",
    "                \"http://\"+AMBASSADOR_API_IP+\"/seldon/\"+deploymentName+\"/api/v0.1/predictions\",\n",
    "                json=request)\n",
    "    print(response)\n",
    "    return response.json()   \n",
    "    \n",
    "def rest_request_auth(deploymentName,data,username,password):\n",
    "    payload = {\"data\":{\"ndarray\":data.tolist()}}\n",
    "    response = requests.post(\n",
    "                \"http://\"+AMBASSADOR_API_IP+\"/seldon/\"+deploymentName+\"/api/v0.1/predictions\",\n",
    "                json=payload,\n",
    "                auth=HTTPBasicAuth(username, password))\n",
    "    print(response.status_code)\n",
    "    return response.json()   \n",
    "\n",
    "def grpc_request(deploymentName,data):\n",
    "    datadef = prediction_pb2.DefaultData(\n",
    "            names = [\"a\",\"b\"],\n",
    "            tensor = prediction_pb2.Tensor(\n",
    "                shape = [1,784],\n",
    "                values = data\n",
    "                )\n",
    "            )\n",
    "    request = prediction_pb2.SeldonMessage(data = datadef)\n",
    "    channel = grpc.insecure_channel(AMBASSADOR_API_IP)\n",
    "    stub = prediction_pb2_grpc.SeldonStub(channel)\n",
    "    metadata = [('seldon',deploymentName)]\n",
    "    response = stub.Predict(request=request,metadata=metadata)\n",
    "    print(response)\n",
    "\n",
    "def send_feedback_rest(deploymentName,request,response,reward):\n",
    "    feedback = {\n",
    "        \"request\": request,\n",
    "        \"response\": response,\n",
    "        \"reward\": reward\n",
    "    }\n",
    "    ret = requests.post(\n",
    "         \"http://\"+AMBASSADOR_API_IP+\"/seldon/\"+deploymentName+\"/api/v0.1/feedback\",\n",
    "        json=feedback)\n",
    "    return ret.text\n"
   ]
  },
  {
   "cell_type": "markdown",
   "metadata": {},
   "source": [
    "# Get predictions\n",
    "**Ensure you have port forwarded the ambassador reverse proxy**\n",
    "\n",
    "```bash\n",
    "kubectl port-forward $(kubectl get pod -l service=ambassador -o jsonpath='{.items[0].metadata.name}') -n  8002:80\n",
    "```"
   ]
  },
  {
   "cell_type": "markdown",
   "metadata": {},
   "source": [
    "If the tensorflow model has not been deployed you can directly use the kubernetes manifest for it to deploy"
   ]
  },
  {
   "cell_type": "markdown",
   "metadata": {},
   "source": [
    "#### REST Request"
   ]
  },
  {
   "cell_type": "code",
   "execution_count": 163,
   "metadata": {},
   "outputs": [
    {
     "data": {
      "image/png": "[encoded data removed]",
      "text/plain": [
       "<Figure size 432x288 with 1 Axes>"
      ]
     },
     "metadata": {},
     "output_type": "display_data"
    },
    {
     "name": "stdout",
     "output_type": "stream",
     "text": [
      "<Response [200]>\n",
      "{\n",
      "  \"meta\": {\n",
      "    \"puid\": \"lgm9e7td9auldo0vgrujes2tde\", \n",
      "    \"routing\": {}, \n",
      "    \"tags\": {}\n",
      "  }, \n",
      "  \"data\": {\n",
      "    \"names\": [\n",
      "      \"class:0\", \n",
      "      \"class:1\", \n",
      "      \"class:2\", \n",
      "      \"class:3\", \n",
      "      \"class:4\", \n",
      "      \"class:5\", \n",
      "      \"class:6\", \n",
      "      \"class:7\", \n",
      "      \"class:8\", \n",
      "      \"class:9\"\n",
      "    ], \n",
      "    \"ndarray\": [\n",
      "      [\n",
      "        0.06666666666666667, \n",
      "        0.1, \n",
      "        0.03333333333333333, \n",
      "        0.03333333333333333, \n",
      "        0.06666666666666667, \n",
      "        0.1, \n",
      "        0.03333333333333333, \n",
      "        0.5333333333333333, \n",
      "        0.0, \n",
      "        0.03333333333333333\n",
      "      ]\n",
      "    ]\n",
      "  }\n",
      "}\n"
     ]
    }
   ],
   "source": [
    "batch_xs, batch_ys = mnist.train.next_batch(1)\n",
    "chosen=0\n",
    "gen_image(batch_xs[chosen]).show()\n",
    "data = batch_xs[chosen].reshape((1,784))\n",
    "request = {\"data\":{\"ndarray\":data.tolist()}}\n",
    "#trying prediction with tensorflow model\n",
    "#predictions = rest_request(\"mnist-classifier\",request)\n",
    "#print(json.dumps(predictions, indent=2))\n",
    "#trying prediction with scikit-learn model\n",
    "predictions = rest_request(\"mnist-classifier\",request)\n",
    "#print type(predictions)\n",
    "print(json.dumps(predictions, indent=2))"
   ]
  },
  {
   "cell_type": "code",
   "execution_count": 24,
   "metadata": {
    "collapsed": true
   },
   "outputs": [
    {
     "name": "stdout",
     "output_type": "stream",
     "text": [
      "[[5.4, 2.3], [1.7, 0.4], [1.4, 0.3], [4.5, 1.7], [4.4, 1.4], [4.0, 1.3], [5.8, 1.8], [4.5, 1.5], [5.3, 1.9], [1.3, 0.4], [1.5, 0.4], [4.9, 1.8], [1.4, 0.2], [3.3, 1.0], [1.4, 0.2], [4.8, 1.4], [5.1, 2.3], [4.5, 1.5], [4.3, 1.3], [5.2, 2.0], [5.9, 2.1], [1.4, 0.1], [4.4, 1.4], [4.9, 2.0], [4.2, 1.3], [4.7, 1.6], [3.0, 1.1], [5.7, 2.5], [1.6, 0.6], [5.0, 2.0], [1.6, 0.2], [1.4, 0.2], [4.0, 1.0], [4.0, 1.3], [6.3, 1.8], [5.5, 2.1], [1.5, 0.1], [1.6, 0.2], [1.4, 0.2], [4.7, 1.4], [5.7, 2.3], [5.1, 1.8], [4.6, 1.5], [1.5, 0.2], [1.5, 0.1]]\n",
      "<type 'dict'>\n",
      "{\n",
      "  \"info\": \"org.springframework.web.client.HttpServerErrorException: 500 INTERNAL SERVER ERROR\", \n",
      "  \"status\": \"FAILURE\", \n",
      "  \"reason\": \"Microservice error\", \n",
      "  \"code\": 203\n",
      "}\n"
     ]
    }
   ],
   "source": [
    "from sklearn import datasets\n",
    "from sklearn.model_selection import train_test_split\n",
    "from sklearn.preprocessing import StandardScaler\n",
    "\n",
    "iris = datasets.load_iris()\n",
    "X = iris.data[:, [2, 3]]\n",
    "y = iris.target\n",
    "X_train, X_test, y_train, y_test = train_test_split(X, y, test_size=0.3, random_state=1, stratify=y)\n",
    "\n",
    "print(str(X_test.tolist()))\n",
    "\n",
    "\n",
    "\n",
    "\n",
    "request = {\"data\":{\"ndarray\": X_test.tolist()}}\n",
    "#trying prediction with tensorflow model\n",
    "#predictions = rest_request(\"mnist-classifier\",request)\n",
    "#print(json.dumps(predictions, indent=2))\n",
    "#trying prediction with scikit-learn model\n",
    "predictions = rest_request(\"iris-classifier-sk\",request)\n",
    "print type(predictions)\n",
    "print(json.dumps(predictions, indent=2))"
   ]
  },
  {
   "cell_type": "code",
   "execution_count": null,
   "metadata": {},
   "outputs": [],
   "source": []
  },
  {
   "cell_type": "markdown",
   "metadata": {},
   "source": [
    "gRPC Request"
   ]
  },
  {
   "cell_type": "code",
   "execution_count": 13,
   "metadata": {},
   "outputs": [
    {
     "data": {
      "image/png": "[encoded data removed]",
      "text/plain": [
       "<Figure size 432x288 with 1 Axes>"
      ]
     },
     "metadata": {},
     "output_type": "display_data"
    },
    {
     "name": "stdout",
     "output_type": "stream",
     "text": [
      "meta {\n",
      "  puid: \"sfe94un2dl068dlvhd882n9hu3\"\n",
      "}\n",
      "data {\n",
      "  names: \"class:0\"\n",
      "  names: \"class:1\"\n",
      "  names: \"class:2\"\n",
      "  names: \"class:3\"\n",
      "  names: \"class:4\"\n",
      "  names: \"class:5\"\n",
      "  names: \"class:6\"\n",
      "  names: \"class:7\"\n",
      "  names: \"class:8\"\n",
      "  names: \"class:9\"\n",
      "  tensor {\n",
      "    shape: 1\n",
      "    shape: 10\n",
      "    values: 4.74210446555e-06\n",
      "    values: 1.78102945938e-05\n",
      "    values: 0.994757056236\n",
      "    values: 0.0027299055364\n",
      "    values: 0.000158441209351\n",
      "    values: 8.38286287035e-05\n",
      "    values: 0.00161093927454\n",
      "    values: 6.96876725215e-08\n",
      "    values: 0.000631592760328\n",
      "    values: 5.6697135733e-06\n",
      "  }\n",
      "}\n",
      "\n"
     ]
    }
   ],
   "source": [
    "batch_xs, batch_ys = mnist.train.next_batch(1)\n",
    "chosen=0\n",
    "gen_image(batch_xs[chosen]).show()\n",
    "data = batch_xs[chosen].reshape((784))\n",
    "grpc_request(\"mnist-classifier\",data)"
   ]
  },
  {
   "cell_type": "code",
   "execution_count": null,
   "metadata": {},
   "outputs": [],
   "source": []
  }
 ],
 "metadata": {
  "kernelspec": {
   "display_name": "Python 2",
   "language": "python",
   "name": "python2"
  },
  "language_info": {
   "codemirror_mode": {
    "name": "ipython",
    "version": 2
   },
   "file_extension": ".py",
   "mimetype": "text/x-python",
   "name": "python",
   "nbconvert_exporter": "python",
   "pygments_lexer": "ipython2",
   "version": "2.7.15rc1"
  }
 },
 "nbformat": 4,
 "nbformat_minor": 1
}
