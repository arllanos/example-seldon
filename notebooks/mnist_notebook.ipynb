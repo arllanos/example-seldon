{
 "cells": [
  {
   "cell_type": "code",
   "execution_count": 1,
   "metadata": {},
   "outputs": [],
   "source": [
    "import sys\n",
    "sys.path.append('proto')\n",
    "from proto import prediction_pb2\n",
    "from proto import prediction_pb2_grpc"
   ]
  },
  {
   "cell_type": "code",
   "execution_count": 2,
   "metadata": {},
   "outputs": [
    {
     "name": "stdout",
     "output_type": "stream",
     "text": [
      "WARNING:tensorflow:From /Users/santiagomolina/example-seldon/models_examples/sk_mnist/train/venv/lib/python3.6/site-packages/tensorflow/contrib/learn/python/learn/datasets/base.py:198: retry (from tensorflow.contrib.learn.python.learn.datasets.base) is deprecated and will be removed in a future version.\n",
      "Instructions for updating:\n",
      "Use the retry module or similar alternatives.\n"
     ]
    }
   ],
   "source": [
    "import numpy as np\n",
    "import matplotlib.pyplot as plt\n",
    "import cv2\n",
    "import sys\n",
    "import tempfile\n",
    "\n",
    "from sklearn import svm, metrics\n",
    "import tensorflow as tf\n",
    "from tensorflow.examples.tutorials.mnist import input_data\n",
    "import requests\n",
    "from requests.auth import HTTPBasicAuth\n",
    "from random import randint,random\n",
    "import json\n"
   ]
  },
  {
   "cell_type": "code",
   "execution_count": 22,
   "metadata": {},
   "outputs": [],
   "source": [
    "\n",
    "\n",
    "AMBASSADOR_API_IP=\"localhost:8002\"\n",
    "\n",
    "def rest_request(deploymentName,request):\n",
    "    #payload = {'json': json.dumps(request)}\n",
    "    response = requests.post(\n",
    "                #\"http://\"+AMBASSADOR_API_IP+\"/seldon/\"+deploymentName+\"/api/v0.1/predictions\",\n",
    "                \"http://localhost:8009/predict\",\n",
    "                json=request)\n",
    "                #data=payload)\n",
    "    print(response)\n",
    "    return response.json()   \n",
    "    \n",
    "def rest_request_auth(deploymentName,data,username,password):\n",
    "    payload = {\"data\":{\"ndarray\":data.tolist()}}\n",
    "    response = requests.post(\n",
    "                \"http://\"+AMBASSADOR_API_IP+\"/seldon/\"+deploymentName+\"/api/v0.1/predictions\",\n",
    "                json=payload,\n",
    "                auth=HTTPBasicAuth(username, password))\n",
    "    print(response.status_code)\n",
    "    return response.json()   \n",
    "\n",
    "def grpc_request(deploymentName,data):\n",
    "    datadef = prediction_pb2.DefaultData(\n",
    "            names = [\"a\",\"b\"],\n",
    "            tensor = prediction_pb2.Tensor(\n",
    "                shape = [1,784],\n",
    "                values = data\n",
    "                )\n",
    "            )\n",
    "\n",
    "    request = prediction_pb2.SeldonMessage(data = datadef)\n",
    "    channel = grpc.insecure_channel(AMBASSADOR_API_IP)\n",
    "    stub = prediction_pb2_grpc.SeldonStub(channel)\n",
    "    metadata = [('seldon',deploymentName)]\n",
    "    response = stub.Predict(request=request,metadata=metadata)\n",
    "    print(list(response.data.ndarray))\n",
    "\n",
    "\n",
    "\n"
   ]
  },
  {
   "cell_type": "code",
   "execution_count": 5,
   "metadata": {},
   "outputs": [
    {
     "name": "stdout",
     "output_type": "stream",
     "text": [
      "WARNING:tensorflow:From <ipython-input-5-7e828717a4ff>:2: read_data_sets (from tensorflow.contrib.learn.python.learn.datasets.mnist) is deprecated and will be removed in a future version.\n",
      "Instructions for updating:\n",
      "Please use alternatives such as official/mnist/dataset.py from tensorflow/models.\n",
      "WARNING:tensorflow:From /Users/santiagomolina/example-seldon/models_examples/sk_mnist/train/venv/lib/python3.6/site-packages/tensorflow/contrib/learn/python/learn/datasets/mnist.py:260: maybe_download (from tensorflow.contrib.learn.python.learn.datasets.base) is deprecated and will be removed in a future version.\n",
      "Instructions for updating:\n",
      "Please write your own downloading logic.\n",
      "WARNING:tensorflow:From /Users/santiagomolina/example-seldon/models_examples/sk_mnist/train/venv/lib/python3.6/site-packages/tensorflow/contrib/learn/python/learn/datasets/mnist.py:262: extract_images (from tensorflow.contrib.learn.python.learn.datasets.mnist) is deprecated and will be removed in a future version.\n",
      "Instructions for updating:\n",
      "Please use tf.data to implement this functionality.\n",
      "Extracting /tmp/tensorflow/mnist/input_data/train-images-idx3-ubyte.gz\n",
      "WARNING:tensorflow:From /Users/santiagomolina/example-seldon/models_examples/sk_mnist/train/venv/lib/python3.6/site-packages/tensorflow/contrib/learn/python/learn/datasets/mnist.py:267: extract_labels (from tensorflow.contrib.learn.python.learn.datasets.mnist) is deprecated and will be removed in a future version.\n",
      "Instructions for updating:\n",
      "Please use tf.data to implement this functionality.\n",
      "Extracting /tmp/tensorflow/mnist/input_data/train-labels-idx1-ubyte.gz\n",
      "WARNING:tensorflow:From /Users/santiagomolina/example-seldon/models_examples/sk_mnist/train/venv/lib/python3.6/site-packages/tensorflow/contrib/learn/python/learn/datasets/mnist.py:110: dense_to_one_hot (from tensorflow.contrib.learn.python.learn.datasets.mnist) is deprecated and will be removed in a future version.\n",
      "Instructions for updating:\n",
      "Please use tf.one_hot on tensors.\n",
      "Extracting /tmp/tensorflow/mnist/input_data/t10k-images-idx3-ubyte.gz\n",
      "Extracting /tmp/tensorflow/mnist/input_data/t10k-labels-idx1-ubyte.gz\n",
      "WARNING:tensorflow:From /Users/santiagomolina/example-seldon/models_examples/sk_mnist/train/venv/lib/python3.6/site-packages/tensorflow/contrib/learn/python/learn/datasets/mnist.py:290: DataSet.__init__ (from tensorflow.contrib.learn.python.learn.datasets.mnist) is deprecated and will be removed in a future version.\n",
      "Instructions for updating:\n",
      "Please use alternatives such as official/mnist/dataset.py from tensorflow/models.\n"
     ]
    }
   ],
   "source": [
    "data_dir = '/tmp/tensorflow/mnist/input_data'\n",
    "mnist = input_data.read_data_sets(data_dir, one_hot=True)"
   ]
  },
  {
   "cell_type": "code",
   "execution_count": 6,
   "metadata": {},
   "outputs": [],
   "source": [
    "test_data=mnist.test.images\n",
    "test_labels=np.array(np.where(mnist.test.labels==1))[1]"
   ]
  },
  {
   "cell_type": "code",
   "execution_count": 25,
   "metadata": {},
   "outputs": [],
   "source": [
    "from sklearn.externals import joblib\n",
    "clf = joblib.load('../models_examples/sk_mnist/train/data/models/mnist_svm_0_0/SVM.pkl')"
   ]
  },
  {
   "cell_type": "code",
   "execution_count": 26,
   "metadata": {},
   "outputs": [
    {
     "ename": "SyntaxError",
     "evalue": "invalid syntax (<ipython-input-26-874b2a067914>, line 2)",
     "output_type": "error",
     "traceback": [
      "\u001b[0;36m  File \u001b[0;32m\"<ipython-input-26-874b2a067914>\"\u001b[0;36m, line \u001b[0;32m2\u001b[0m\n\u001b[0;31m    **Ensure you have port forwarded the ambassador reverse proxy**\u001b[0m\n\u001b[0m     ^\u001b[0m\n\u001b[0;31mSyntaxError\u001b[0m\u001b[0;31m:\u001b[0m invalid syntax\n"
     ]
    }
   ],
   "source": [
    "# Get predictions\n",
    "**Ensure you have port forwarded the ambassador reverse proxy**\n",
    "\n",
    "```bash\n",
    "kubectl port-forward $(kubectl get pod -l service=ambassador -o jsonpath='{.items[0].metadata.name}')  8002:80\n",
    "```"
   ]
  },
  {
   "cell_type": "code",
   "execution_count": 38,
   "metadata": {},
   "outputs": [
    {
     "name": "stdout",
     "output_type": "stream",
     "text": [
      "NAME                                                    READY     STATUS    RESTARTS   AGE\r\n",
      "ambassador-689d99b97c-22tzv                             2/2       Running   0          3d\r\n",
      "ambassador-689d99b97c-dnns5                             2/2       Running   0          3d\r\n",
      "ambassador-689d99b97c-zp4rz                             2/2       Running   0          3d\r\n",
      "argo-ui-9bfc9f5c-8zf44                                  1/1       Running   0          3d\r\n",
      "centraldashboard-67b7f4d5c8-n84b7                       1/1       Running   0          3d\r\n",
      "iefwk-configuration-7b7b687fcf-xcp6w                    1/1       Running   0          1d\r\n",
      "iefwk-ie-deployment-547d96865c-r29nc                    1/1       Running   0          1d\r\n",
      "mnist-sk-none-none-mnist-sk-none-none-6fd455dbb-ddtxp   2/2       Running   0          2h\r\n",
      "mnist-svm-0-0-mnist-svm-0-0-75f496f7dc-7qctp            2/2       Running   3          42m\r\n",
      "mypsql-postgresql-56c49bdf9b-cx6wn                      1/1       Running   0          3d\r\n",
      "nfs-1-provisioner-7497d85d76-6zd6d                      1/1       Running   0          3d\r\n",
      "redis-df886d999-bl86r                                   1/1       Running   0          3d\r\n",
      "seldon-cluster-manager-844d57679-lrvcj                  1/1       Running   0          3d\r\n",
      "spartakus-volunteer-6b7765f44b-njwwt                    1/1       Running   0          3d\r\n",
      "tf-hub-0                                                1/1       Running   0          3d\r\n",
      "tf-job-dashboard-644865ddff-b29kb                       1/1       Running   0          3d\r\n",
      "tf-job-operator-v1alpha2-75bcb7f5f7-2hp6v               1/1       Running   0          3d\r\n",
      "workflow-controller-84d54f597d-kg9bj                    1/1       Running   0          3d\r\n"
     ]
    }
   ],
   "source": [
    "!kubectl get pods"
   ]
  },
  {
   "cell_type": "code",
   "execution_count": 23,
   "metadata": {},
   "outputs": [
    {
     "data": {
      "image/png": "[encoded data removed]",
      "text/plain": [
       "<Figure size 432x288 with 1 Axes>"
      ]
     },
     "metadata": {},
     "output_type": "display_data"
    },
    {
     "name": "stdout",
     "output_type": "stream",
     "text": [
      "{'data': {'ndarray': [[0.0, 0.0, 0.0, 0.0, 0.0, 0.0, 0.0, 0.0, 0.0, 0.0, 0.0, 0.0, 0.0, 0.0, 0.0, 0.0, 0.0, 0.0, 0.0, 0.0, 0.0, 0.0, 0.0, 0.0, 0.0, 0.0, 0.0, 0.0, 0.0, 0.0, 0.0, 0.0, 0.0, 0.0, 0.0, 0.0, 0.0, 0.0, 0.0, 0.0, 0.0, 0.0, 0.0, 0.0, 0.0, 0.0, 0.0, 0.0, 0.0, 0.0, 0.0, 0.0, 0.0, 0.0, 0.0, 0.0, 0.0, 0.0, 0.0, 0.0, 0.0, 0.0, 0.0, 0.0, 0.0, 0.0, 0.0, 0.0, 0.0, 0.0, 0.0, 0.0, 0.0, 0.0, 0.0, 0.0, 0.0, 0.0, 0.0, 0.0, 0.0, 0.0, 0.0, 0.0, 0.0, 0.0, 0.0, 0.0, 0.0, 0.0, 0.0, 0.0, 0.0, 0.0, 0.0, 0.0, 0.0, 0.0, 0.0, 0.0, 0.0, 0.0, 0.0, 0.0, 0.0, 0.0, 0.0, 0.0, 0.0, 0.0, 0.0, 0.0, 0.0, 0.0, 0.0, 0.0, 0.0, 0.0, 0.0, 0.0, 0.0, 0.0, 0.0, 0.0, 0.0, 0.0, 0.0, 0.0, 0.0, 0.0, 0.0, 0.0, 0.0, 0.0, 0.0, 0.0, 0.0, 0.0, 0.0, 0.0, 0.0, 0.0, 0.0, 0.0, 0.0, 0.0, 0.0, 0.0, 0.0, 0.0, 0.0, 0.0, 0.0, 0.0, 0.0, 0.0, 0.0, 0.0, 0.0, 0.0, 0.0, 0.0, 0.0, 0.0, 0.0, 0.0, 0.0, 0.0, 0.0, 0.0, 0.0, 0.0, 0.0, 0.0, 0.0, 0.0, 0.0, 0.0, 0.0, 0.0, 0.0, 0.0, 0.0, 0.0, 0.0, 0.0, 0.0, 0.0, 0.0, 0.0, 0.0, 0.0, 0.0, 0.0, 0.0, 0.0, 0.0, 0.0, 0.0, 0.0, 0.0, 0.0, 0.0, 0.0, 0.0, 0.0, 0.0, 0.0, 0.0, 0.0, 0.0, 0.0, 0.0, 0.0, 0.0, 0.16862745583057404, 0.4078431725502014, 0.8117647767066956, 0.8117647767066956, 0.6470588445663452, 0.03529411926865578, 0.0, 0.0, 0.0, 0.0, 0.0, 0.0, 0.0, 0.0, 0.0, 0.0, 0.0, 0.0, 0.0, 0.0, 0.0, 0.0, 0.0, 0.0, 0.04313725605607033, 0.4549019932746887, 0.7803922295570374, 0.9019608497619629, 0.9411765336990356, 0.9921569228172302, 0.988235354423523, 0.988235354423523, 0.988235354423523, 0.501960813999176, 0.0, 0.0, 0.0, 0.0, 0.0, 0.0, 0.0, 0.0, 0.0, 0.0, 0.0, 0.0, 0.0, 0.0, 0.0, 0.0, 0.07450980693101883, 0.501960813999176, 1.0, 0.9921569228172302, 0.9921569228172302, 0.917647123336792, 0.9019608497619629, 0.4549019932746887, 0.4549019932746887, 0.6000000238418579, 0.9921569228172302, 0.9921569228172302, 0.0, 0.0, 0.0, 0.0, 0.0, 0.0, 0.0, 0.0, 0.0, 0.0, 0.0, 0.0, 0.0, 0.0, 0.03529411926865578, 0.30588236451148987, 0.9254902601242065, 0.988235354423523, 0.9921569228172302, 0.988235354423523, 0.7333333492279053, 0.06666667014360428, 0.0, 0.0, 0.0, 0.27450981736183167, 0.988235354423523, 0.988235354423523, 0.0, 0.0, 0.0, 0.0, 0.0, 0.0, 0.0, 0.0, 0.0, 0.0, 0.0, 0.0, 0.0, 0.14901961386203766, 0.6078431606292725, 0.988235354423523, 0.988235354423523, 0.988235354423523, 0.9686275124549866, 0.43137258291244507, 0.07450980693101883, 0.0, 0.0, 0.0, 0.0, 0.6000000238418579, 0.988235354423523, 0.658823549747467, 0.0, 0.0, 0.0, 0.0, 0.0, 0.0, 0.0, 0.0, 0.0, 0.0, 0.0, 0.0, 0.16862745583057404, 0.9137255549430847, 0.988235354423523, 0.988235354423523, 0.988235354423523, 0.8235294818878174, 0.3686274588108063, 0.0, 0.0, 0.0, 0.0, 0.0, 0.5176470875740051, 0.9411765336990356, 0.988235354423523, 0.16862745583057404, 0.0, 0.0, 0.0, 0.0, 0.0, 0.0, 0.0, 0.0, 0.0, 0.0, 0.0, 0.16862745583057404, 0.9019608497619629, 0.9921569228172302, 0.988235354423523, 0.988235354423523, 0.8235294818878174, 0.08627451211214066, 0.0, 0.0, 0.0, 0.0, 0.0, 0.49803924560546875, 0.9568628072738647, 0.988235354423523, 0.4549019932746887, 0.007843137718737125, 0.0, 0.0, 0.0, 0.0, 0.0, 0.0, 0.0, 0.0, 0.0, 0.0, 0.14901961386203766, 0.9137255549430847, 0.9921569228172302, 0.9058824181556702, 0.24705883860588074, 0.7803922295570374, 0.16470588743686676, 0.0, 0.0, 0.0, 0.0, 0.20000001788139343, 0.7490196228027344, 1.0, 0.9764706492424011, 0.45098042488098145, 0.0, 0.0, 0.0, 0.0, 0.0, 0.0, 0.0, 0.0, 0.0, 0.0, 0.0, 0.11764706671237946, 0.6078431606292725, 0.988235354423523, 0.9058824181556702, 0.16470588743686676, 0.0, 0.0, 0.0, 0.0, 0.0, 0.03529411926865578, 0.5098039507865906, 0.760784387588501, 0.988235354423523, 0.9764706492424011, 0.458823561668396, 0.0, 0.0, 0.0, 0.0, 0.0, 0.0, 0.0, 0.0, 0.0, 0.0, 0.0, 0.027450982481241226, 0.729411780834198, 0.988235354423523, 0.988235354423523, 0.21176472306251526, 0.0, 0.0, 0.0, 0.0, 0.125490203499794, 0.5176470875740051, 0.7725490927696228, 0.988235354423523, 0.988235354423523, 0.8666667342185974, 0.24705883860588074, 0.0, 0.0, 0.0, 0.0, 0.0, 0.0, 0.0, 0.0, 0.0, 0.0, 0.0, 0.0, 0.25882354378700256, 0.988235354423523, 0.988235354423523, 0.6901960968971252, 0.01568627543747425, 0.0, 0.0, 0.2666666805744171, 0.5254902243614197, 0.8941177129745483, 0.9921569228172302, 0.988235354423523, 0.988235354423523, 0.5254902243614197, 0.09803922474384308, 0.0, 0.0, 0.0, 0.0, 0.0, 0.0, 0.0, 0.0, 0.0, 0.0, 0.0, 0.0, 0.0, 0.9529412388801575, 0.988235354423523, 0.988235354423523, 0.5843137502670288, 0.4549019932746887, 0.7019608020782471, 0.9019608497619629, 0.9647059440612793, 0.988235354423523, 0.988235354423523, 0.9529412388801575, 0.5372549295425415, 0.21176472306251526, 0.01568627543747425, 0.0, 0.0, 0.0, 0.0, 0.0, 0.0, 0.0, 0.0, 0.0, 0.0, 0.0, 0.0, 0.0, 0.0, 0.9568628072738647, 0.9921569228172302, 0.9921569228172302, 0.9921569228172302, 0.9921569228172302, 1.0, 0.9921569228172302, 0.9921569228172302, 0.917647123336792, 0.4941176772117615, 0.0, 0.0, 0.0, 0.0, 0.0, 0.0, 0.0, 0.0, 0.0, 0.0, 0.0, 0.0, 0.0, 0.0, 0.0, 0.0, 0.0, 0.0, 0.19607844948768616, 0.6431372761726379, 0.8078432083129883, 0.8078432083129883, 0.8078432083129883, 0.8117647767066956, 0.5176470875740051, 0.3607843220233917, 0.06666667014360428, 0.0, 0.0, 0.0, 0.0, 0.0, 0.0, 0.0, 0.0, 0.0, 0.0, 0.0, 0.0, 0.0, 0.0, 0.0, 0.0, 0.0, 0.0, 0.0, 0.0, 0.0, 0.0, 0.0, 0.0, 0.0, 0.0, 0.0, 0.0, 0.0, 0.0, 0.0, 0.0, 0.0, 0.0, 0.0, 0.0, 0.0, 0.0, 0.0, 0.0, 0.0, 0.0, 0.0, 0.0, 0.0, 0.0, 0.0, 0.0, 0.0, 0.0, 0.0, 0.0, 0.0, 0.0, 0.0, 0.0, 0.0, 0.0, 0.0, 0.0, 0.0, 0.0, 0.0, 0.0, 0.0, 0.0, 0.0, 0.0, 0.0, 0.0, 0.0, 0.0, 0.0, 0.0, 0.0, 0.0, 0.0, 0.0, 0.0, 0.0, 0.0, 0.0, 0.0, 0.0, 0.0, 0.0, 0.0, 0.0, 0.0, 0.0, 0.0, 0.0, 0.0, 0.0, 0.0, 0.0, 0.0, 0.0, 0.0, 0.0, 0.0, 0.0, 0.0, 0.0, 0.0, 0.0, 0.0, 0.0, 0.0, 0.0, 0.0, 0.0, 0.0, 0.0, 0.0, 0.0, 0.0, 0.0, 0.0, 0.0, 0.0, 0.0, 0.0, 0.0, 0.0, 0.0, 0.0, 0.0, 0.0, 0.0, 0.0, 0.0, 0.0, 0.0, 0.0, 0.0, 0.0, 0.0, 0.0, 0.0, 0.0, 0.0, 0.0, 0.0, 0.0, 0.0, 0.0, 0.0, 0.0, 0.0, 0.0, 0.0, 0.0, 0.0, 0.0, 0.0, 0.0, 0.0, 0.0, 0.0, 0.0, 0.0, 0.0, 0.0, 0.0, 0.0, 0.0, 0.0, 0.0, 0.0, 0.0, 0.0, 0.0, 0.0, 0.0, 0.0, 0.0, 0.0, 0.0, 0.0, 0.0, 0.0, 0.0, 0.0, 0.0, 0.0, 0.0, 0.0, 0.0, 0.0, 0.0, 0.0, 0.0, 0.0, 0.0, 0.0, 0.0, 0.0, 0.0, 0.0, 0.0, 0.0, 0.0, 0.0, 0.0, 0.0, 0.0, 0.0, 0.0, 0.0]]}}\n",
      "<Response [400]>\n",
      "{\n",
      "  \"status\": {\n",
      "    \"code\": -1,\n",
      "    \"info\": \"Empty json parameter in data\",\n",
      "    \"reason\": \"MICROSERVICE_BAD_DATA\",\n",
      "    \"status\": 1\n",
      "  }\n",
      "}\n"
     ]
    }
   ],
   "source": [
    "test_index = randint(0, test_data.shape[0]-1)\n",
    "plt.imshow(test_data[test_index].reshape((28,28))); plt.show()\n",
    "test_samples = test_data[test_index].reshape((1,784)).tolist()\n",
    "\n",
    "request = {\"data\":{\"ndarray\":test_samples}}\n",
    "\n",
    "print(request)\n",
    "#trying prediction with tensorflow model\n",
    "#predictions = rest_request(\"mnist-classifier\",request)\n",
    "#print(json.dumps(predictions, indent=2))\n",
    "#trying prediction with scikit-learn model\n",
    "#predictions = grpc_request(\"mnist-svm-0-0\",test_samples)\n",
    "predictions = rest_request(\"mnist-svm-0-0\",request)\n",
    "#print type(predictions)\n",
    "print(json.dumps(predictions, indent=2))\n"
   ]
  },
  {
   "cell_type": "code",
   "execution_count": null,
   "metadata": {},
   "outputs": [],
   "source": []
  }
 ],
 "metadata": {
  "kernelspec": {
   "display_name": "Python 3",
   "language": "python",
   "name": "python3"
  },
  "language_info": {
   "codemirror_mode": {
    "name": "ipython",
    "version": 3
   },
   "file_extension": ".py",
   "mimetype": "text/x-python",
   "name": "python",
   "nbconvert_exporter": "python",
   "pygments_lexer": "ipython3",
   "version": "3.6.4"
  }
 },
 "nbformat": 4,
 "nbformat_minor": 2
}
