{
 "cells": [
  {
   "cell_type": "markdown",
   "metadata": {},
   "source": [
    "# Train Various Models on MNIST using kubeflow and seldon-core\n",
    "\n",
    "Using:\n",
    "\n",
    " * kubeflow\n",
    " * seldon-core\n",
    " \n",
    "The example will be the MNIST handwriiten digit classification task.\n",
    "\n",
    "![MNIST](mnist.png \"MNIST Digits\")\n",
    "\n",
    "### Dependencies\n",
    "\n",
    "  * Argo"
   ]
  },
  {
   "cell_type": "markdown",
   "metadata": {},
   "source": [
    "# Setup\n"
   ]
  },
  {
   "cell_type": "code",
   "execution_count": null,
   "metadata": {},
   "outputs": [],
   "source": [
    "!kubectl config set-context $(kubectl config current-context) --namespace=kubeflow-seldon"
   ]
  },
  {
   "cell_type": "markdown",
   "metadata": {},
   "source": [
    "# Tensorflow Model\n",
    " A simple neural network in Tensorflow."
   ]
  },
  {
   "cell_type": "markdown",
   "metadata": {},
   "source": [
    "### Training\n",
    " * Create image from source\n",
    " * Run training\n",
    " \n",
    "\n",
    "Run with:\n",
    "  * ``` -p build-push-image=true``` to build image and push to repo, needed extra params:\n",
    "    * ``` -p version=<version>``` create ```<version>``` of model\n",
    "    * ``` -p github-user=<github-user>``` to download example-seldon source from ```<github-user>``` account\n",
    "    * ``` -p github-revision=<revision>``` to use the github branch ```<revision>```\n",
    "    * ``` -p docker-user=<docker-user>``` to use Docker user ```<docker-user>``` to push image to. Needs docker credentials in secret as described in README."
   ]
  },
  {
   "cell_type": "code",
   "execution_count": null,
   "metadata": {},
   "outputs": [],
   "source": [
    "!pygmentize ../workflows/training-tf-mnist-workflow.yaml"
   ]
  },
  {
   "cell_type": "code",
   "execution_count": 8,
   "metadata": {},
   "outputs": [
    {
     "name": "stdout",
     "output_type": "stream",
     "text": [
      "Name:                kubeflow-tf-train-v82g7\r\n",
      "Namespace:           kubeflow-seldon\r\n",
      "ServiceAccount:      default\r\n",
      "Status:              Pending\r\n",
      "Created:             Thu May 17 12:00:14 -0300 (1 second ago)\r\n",
      "Parameters:          \r\n",
      "  tfjob-version-hack: 1\r\n",
      "  version:           0.1\r\n",
      "  github-user:       kubeflow\r\n",
      "  github-revision:   master\r\n",
      "  docker-user:       smolina74\r\n",
      "  build-push-image:  false\r\n"
     ]
    }
   ],
   "source": [
    "!argo submit ../workflows/training-tf-mnist-workflow.yaml -p tfjob-version-hack=1"
   ]
  },
  {
   "cell_type": "code",
   "execution_count": 7,
   "metadata": {},
   "outputs": [
    {
     "name": "stdout",
     "output_type": "stream",
     "text": [
      "NAME                      STATUS      AGE    DURATION\n",
      "kubeflow-tf-train-prqt5   Running     12s    12s \n",
      "kubeflow-tf-train-8gcbm   Running     49m    49m \n",
      "seldon-tf-deploy-xg4rg    Succeeded   16m    17s \n"
     ]
    }
   ],
   "source": [
    "!argo list"
   ]
  },
  {
   "cell_type": "markdown",
   "metadata": {},
   "source": [
    "### Runtime Image\n",
    "\n",
    "Run with:\n",
    "  * ``` -p build-push-image=true``` to build image and push to repo, needed extra params:\n",
    "    * ``` -p version=<version>``` create ```<version>``` of model\n",
    "    * ``` -p github-user=<github-user>``` to download example-seldon source from ```<github-user>``` account\n",
    "    * ``` -p github-revision=<revision>``` to use the github branch ```<revision>```\n",
    "    * ``` -p docker-user=<docker-user>``` to use Docker user ```<docker-user>``` to push image to. Needs docker credentials in secret as described in README.\n",
    "  * ``` -p deploy-model=true``` to deploy model"
   ]
  },
  {
   "cell_type": "code",
   "execution_count": null,
   "metadata": {},
   "outputs": [],
   "source": [
    "!pygmentize ../workflows/serving-tf-mnist-workflow.yaml"
   ]
  },
  {
   "cell_type": "code",
   "execution_count": 9,
   "metadata": {},
   "outputs": [
    {
     "name": "stdout",
     "output_type": "stream",
     "text": [
      "Name:                seldon-tf-deploy-xmjx6\r\n",
      "Namespace:           kubeflow-seldon\r\n",
      "ServiceAccount:      default\r\n",
      "Status:              Pending\r\n",
      "Created:             Thu May 17 12:01:57 -0300 (1 second ago)\r\n",
      "Parameters:          \r\n",
      "  version:           0.1\r\n",
      "  github-user:       kubeflow\r\n",
      "  github-revision:   master\r\n",
      "  docker-user:       smolina74\r\n",
      "  build-push-image:  false\r\n",
      "  deploy-model:      true\r\n"
     ]
    }
   ],
   "source": [
    "!argo submit ../workflows/serving-tf-mnist-workflow.yaml"
   ]
  },
  {
   "cell_type": "code",
   "execution_count": null,
   "metadata": {},
   "outputs": [],
   "source": [
    "!argo list"
   ]
  },
  {
   "cell_type": "markdown",
   "metadata": {},
   "source": [
    "# Sklearn Model\n",
    "A Random forest in sklearn."
   ]
  },
  {
   "cell_type": "markdown",
   "metadata": {},
   "source": [
    "### Training\n",
    "\n",
    " * For options see above Tensorflow example"
   ]
  },
  {
   "cell_type": "code",
   "execution_count": null,
   "metadata": {},
   "outputs": [],
   "source": [
    "!pygmentize ../workflows/training-sk-mnist-workflow.yaml"
   ]
  },
  {
   "cell_type": "code",
   "execution_count": null,
   "metadata": {},
   "outputs": [],
   "source": [
    "!argo submit ../workflows/training-sk-mnist-workflow.yaml"
   ]
  },
  {
   "cell_type": "code",
   "execution_count": null,
   "metadata": {},
   "outputs": [],
   "source": [
    "!argo list"
   ]
  },
  {
   "cell_type": "markdown",
   "metadata": {},
   "source": [
    "### Runtime Image\n",
    " * For options see above Tensorflow example"
   ]
  },
  {
   "cell_type": "code",
   "execution_count": null,
   "metadata": {},
   "outputs": [],
   "source": [
    "!pygmentize ../workflows/serving-sk-mnist-workflow.yaml"
   ]
  },
  {
   "cell_type": "code",
   "execution_count": null,
   "metadata": {},
   "outputs": [],
   "source": [
    "!argo submit ../workflows/serving-sk-mnist-workflow.yaml"
   ]
  },
  {
   "cell_type": "code",
   "execution_count": null,
   "metadata": {},
   "outputs": [],
   "source": [
    "!argo list"
   ]
  },
  {
   "cell_type": "markdown",
   "metadata": {},
   "source": [
    "# R Model\n",
    "A partial least squares model in R."
   ]
  },
  {
   "cell_type": "markdown",
   "metadata": {},
   "source": [
    "### Training\n",
    "\n",
    " * For options see above Tensorflow example"
   ]
  },
  {
   "cell_type": "code",
   "execution_count": null,
   "metadata": {},
   "outputs": [],
   "source": [
    "!pygmentize ../workflows/training-r-mnist-workflow.yaml"
   ]
  },
  {
   "cell_type": "code",
   "execution_count": null,
   "metadata": {},
   "outputs": [],
   "source": [
    "!argo submit ../workflows/training-r-mnist-workflow.yaml"
   ]
  },
  {
   "cell_type": "code",
   "execution_count": null,
   "metadata": {},
   "outputs": [],
   "source": [
    "!argo list"
   ]
  },
  {
   "cell_type": "markdown",
   "metadata": {},
   "source": [
    "### Runtime Image\n",
    " * For options see above Tensorflow example"
   ]
  },
  {
   "cell_type": "code",
   "execution_count": null,
   "metadata": {},
   "outputs": [],
   "source": [
    "!pygmentize ../workflows/serving-r-mnist-workflow.yaml"
   ]
  },
  {
   "cell_type": "code",
   "execution_count": null,
   "metadata": {},
   "outputs": [],
   "source": [
    "!argo submit ../workflows/serving-r-mnist-workflow.yaml"
   ]
  },
  {
   "cell_type": "code",
   "execution_count": null,
   "metadata": {},
   "outputs": [],
   "source": [
    "!argo list"
   ]
  },
  {
   "cell_type": "code",
   "execution_count": null,
   "metadata": {},
   "outputs": [],
   "source": []
  }
 ],
 "metadata": {
  "kernelspec": {
   "display_name": "Python 2",
   "language": "python",
   "name": "python2"
  },
  "language_info": {
   "codemirror_mode": {
    "name": "ipython",
    "version": 2
   },
   "file_extension": ".py",
   "mimetype": "text/x-python",
   "name": "python",
   "nbconvert_exporter": "python",
   "pygments_lexer": "ipython2",
   "version": "2.7.12"
  }
 },
 "nbformat": 4,
 "nbformat_minor": 1
}
