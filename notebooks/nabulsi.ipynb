{
 "cells": [
  {
   "cell_type": "markdown",
   "metadata": {},
   "source": [
    "# Preparation Steps"
   ]
  },
  {
   "cell_type": "code",
   "execution_count": null,
   "metadata": {},
   "outputs": [],
   "source": [
    "import sys\n",
    "import numpy as np\n",
    "import matplotlib.pyplot as plt\n",
    "import sys\n",
    "import tempfile\n",
    "\n",
    "from sklearn import svm, metrics\n",
    "import tensorflow as tf\n",
    "from tensorflow.examples.tutorials.mnist import input_data\n",
    "import requests\n",
    "from requests.auth import HTTPBasicAuth\n",
    "from random import randint,random\n",
    "import json\n",
    "import os\n",
    "import time"
   ]
  },
  {
   "cell_type": "code",
   "execution_count": null,
   "metadata": {},
   "outputs": [],
   "source": [
    "AMBASSADOR_API_IP=\"localhost:8002\"\n",
    "\n",
    "def rest_request(deploymentName,request):\n",
    "    payload = {'json': json.dumps(request)}\n",
    "    response = requests.post(\n",
    "                \"http://\"+AMBASSADOR_API_IP+\"/seldon/\"+deploymentName+\"/api/v0.1/predictions\",\n",
    "                #\"http://localhost:8009/predict\",\n",
    "                #\"http://localhost:5300/predict\",\n",
    "                json=request)\n",
    "                #data=payload)\n",
    "    print(response)\n",
    "    return response.json()   \n",
    "    \n",
    "def rest_request_auth(deploymentName,data,username,password):\n",
    "    payload = {\"data\":{\"ndarray\":data.tolist()}}\n",
    "    response = requests.post(\n",
    "                \"http://\"+AMBASSADOR_API_IP+\"/seldon/\"+deploymentName+\"/api/v0.1/predictions\",\n",
    "                json=payload,\n",
    "                auth=HTTPBasicAuth(username, password))\n",
    "    print(response.status_code)\n",
    "    return response.json()   "
   ]
  },
  {
   "cell_type": "code",
   "execution_count": null,
   "metadata": {},
   "outputs": [],
   "source": [
    "data_dir = '/tmp/tensorflow/mnist/input_data'\n",
    "mnist = input_data.read_data_sets(data_dir, one_hot=True)"
   ]
  },
  {
   "cell_type": "code",
   "execution_count": null,
   "metadata": {},
   "outputs": [],
   "source": [
    "test_data=mnist.test.images\n",
    "test_labels=np.array(np.where(mnist.test.labels==1))[1]"
   ]
  },
  {
   "cell_type": "markdown",
   "metadata": {},
   "source": [
    "# Demo"
   ]
  },
  {
   "cell_type": "markdown",
   "metadata": {},
   "source": [
    "### The goal for this demo is to show deployed Intelligent Elements are capable of reacting to choreographies changes.\n",
    "### There are two Intelligent Elements deployed:\n",
    "### - mnist-svm-1-0 \n",
    "#### This IE exposes the MNIST model for predicting handwritten digits. Whenever the choreography is created this IE will assume the role of producer.\n",
    "### - mnistconsumer-1-1-0\n",
    "#### This IE doesn't expose any machine model. It just returns what it receives. Whenever the choreography is created this IE will assume the role of consumer.\n",
    "\n",
    "\n",
    "### In the first test we're going to run predictions without a choreography and verify messages"
   ]
  },
  {
   "cell_type": "markdown",
   "metadata": {},
   "source": [
    "![title](img/without_choreography.png)"
   ]
  },
  {
   "cell_type": "markdown",
   "metadata": {},
   "source": [
    "### In the second test we're going to run predictions with a choreography in place and verify messages"
   ]
  },
  {
   "cell_type": "markdown",
   "metadata": {},
   "source": [
    "![title](img/with_choreography.png)"
   ]
  },
  {
   "cell_type": "markdown",
   "metadata": {},
   "source": [
    "# Run Demo"
   ]
  },
  {
   "cell_type": "markdown",
   "metadata": {},
   "source": [
    "## 1.- Run port-forwards"
   ]
  },
  {
   "cell_type": "code",
   "execution_count": null,
   "metadata": {},
   "outputs": [],
   "source": [
    "os.popen('bash ambassador.sh')\n",
    "time.sleep(5)"
   ]
  },
  {
   "cell_type": "code",
   "execution_count": null,
   "metadata": {},
   "outputs": [],
   "source": [
    "os.popen('bash configuration.sh')\n",
    "time.sleep(5)"
   ]
  },
  {
   "cell_type": "markdown",
   "metadata": {},
   "source": [
    "## 2.- Reset test"
   ]
  },
  {
   "cell_type": "code",
   "execution_count": null,
   "metadata": {},
   "outputs": [],
   "source": [
    "!curl -X DELETE --header 'Accept: application/json' 'http://localhost:8889/api/configuration/choreographies/ABC'"
   ]
  },
  {
   "cell_type": "markdown",
   "metadata": {},
   "source": [
    "## 3.- Check existing choreographies"
   ]
  },
  {
   "cell_type": "code",
   "execution_count": null,
   "metadata": {},
   "outputs": [],
   "source": [
    "!curl -X GET --header 'Accept: application/json' 'http://localhost:8889/api/configuration/choreographies/'"
   ]
  },
  {
   "cell_type": "markdown",
   "metadata": {},
   "source": [
    "## 4.- Run prediction and verify consumer doesn't get any message\n"
   ]
  },
  {
   "cell_type": "code",
   "execution_count": null,
   "metadata": {},
   "outputs": [],
   "source": [
    "test_index = randint(0, test_data.shape[0]-1)\n",
    "plt.imshow(test_data[test_index].reshape((28,28))); plt.show()\n",
    "test_samples = test_data[test_index].reshape((1,784)).tolist()\n",
    "test_samples_with_ids = [{'id': '1', 'values':sample} for sample in test_samples]\n",
    "\n",
    "request = {\"data\":{\"ndarray\":test_samples_with_ids}}\n",
    "\n",
    "predictions = rest_request(\"mnist-svm-1-0\",request)\n",
    "\n",
    "print(json.dumps(predictions, indent=2))\n"
   ]
  },
  {
   "cell_type": "markdown",
   "metadata": {},
   "source": [
    "## 5.- Configure choreography"
   ]
  },
  {
   "cell_type": "code",
   "execution_count": null,
   "metadata": {},
   "outputs": [],
   "source": [
    "!curl -X POST --header 'Content-Type: application/json' --header 'Accept: application/json' -d '  { \\\n",
    "    \"choreography_id\": \"ABC\", \\\n",
    "    \"channels\": [ \\\n",
    "      { \\\n",
    "        \"model_id\": \"mnistconsumer\", \\\n",
    "        \"model_version\": \"1\", \\\n",
    "        \"feature_collection_module\": \"\", \\\n",
    "        \"queue_forwardings\": [], \\\n",
    "        \"external_forwardings\": [], \\\n",
    "        \"feature_collection_triggers\": [ \\\n",
    "          { \\\n",
    "            \"queue_id\": \"1\", \\\n",
    "            \"topic\": \"MNIST\" \\\n",
    "          } \\\n",
    "        ] \\\n",
    "      }, \\\n",
    "      { \\\n",
    "        \"model_id\": \"mnist\", \\\n",
    "        \"model_version\": \"svm\", \\\n",
    "        \"feature_collection_module\": \"\", \\\n",
    "        \"queue_forwardings\": [ \\\n",
    "          { \\\n",
    "            \"queue_id\": \"1\", \\\n",
    "            \"topic\": \"MNIST\" \\\n",
    "          } \\\n",
    "        ], \\\n",
    "        \"external_forwardings\": [], \\\n",
    "        \"feature_collection_triggers\": [] \\\n",
    "      } \\\n",
    "    ] \\\n",
    "  }' 'http://localhost:8889/api/configuration/choreographies/'"
   ]
  },
  {
   "cell_type": "code",
   "execution_count": null,
   "metadata": {},
   "outputs": [],
   "source": [
    "!curl -X GET --header 'Accept: application/json' 'http://localhost:8889/api/configuration/choreographies/'"
   ]
  },
  {
   "cell_type": "markdown",
   "metadata": {},
   "source": [
    "## 6.- Run prediction and verify messages arrive to consumer"
   ]
  },
  {
   "cell_type": "code",
   "execution_count": null,
   "metadata": {},
   "outputs": [],
   "source": [
    "test_index = randint(0, test_data.shape[0]-1)\n",
    "plt.imshow(test_data[test_index].reshape((28,28))); plt.show()\n",
    "test_samples = test_data[test_index].reshape((1,784)).tolist()\n",
    "test_samples_with_ids = [{'id': '1', 'values':sample} for sample in test_samples]\n",
    "\n",
    "request = {\"data\":{\"ndarray\":test_samples_with_ids}}\n",
    "\n",
    "predictions = rest_request(\"mnist-svm-1-0\",request)\n",
    "\n",
    "print(json.dumps(predictions, indent=2))\n"
   ]
  },
  {
   "cell_type": "code",
   "execution_count": null,
   "metadata": {},
   "outputs": [],
   "source": []
  }
 ],
 "metadata": {
  "kernelspec": {
   "display_name": "Python 3",
   "language": "python",
   "name": "python3"
  },
  "language_info": {
   "codemirror_mode": {
    "name": "ipython",
    "version": 3
   },
   "file_extension": ".py",
   "mimetype": "text/x-python",
   "name": "python",
   "nbconvert_exporter": "python",
   "pygments_lexer": "ipython3",
   "version": "3.6.5"
  }
 },
 "nbformat": 4,
 "nbformat_minor": 2
}
